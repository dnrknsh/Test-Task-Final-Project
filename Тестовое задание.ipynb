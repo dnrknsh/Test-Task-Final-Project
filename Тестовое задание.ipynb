{
 "cells": [
  {
   "cell_type": "code",
   "execution_count": 1,
   "id": "231d5b9a-8498-4435-82f4-209349db0afc",
   "metadata": {},
   "outputs": [],
   "source": [
    "import pandas as pd"
   ]
  },
  {
   "cell_type": "code",
   "execution_count": 2,
   "id": "c85d8698-9bcc-4f59-9a91-600e90a49acb",
   "metadata": {},
   "outputs": [
    {
     "name": "stdout",
     "output_type": "stream",
     "text": [
      "         date                               user_id  view_adverts\n",
      "0  2023-11-11  8c020470-8461-11ed-83d0-552e8cc749d6            13\n",
      "1  2023-11-18  5875f070-7b92-11ee-a6fb-8b298e83f4f7            14\n",
      "2  2023-11-29  3c2d27c0-4fd6-11eb-b89f-2ffb31b67dd6            21\n",
      "3  2023-11-29  234a96d0-ad16-11ed-a2e6-793ddfeeba1f            23\n",
      "4  2023-11-29  4d07c180-644f-11eb-879c-b7c02edf4f37            12\n"
     ]
    }
   ],
   "source": [
    "df = pd.read_csv('Данные об аудитории.csv')\n",
    "print(df.head())"
   ]
  },
  {
   "cell_type": "code",
   "execution_count": 3,
   "id": "86ed41a6-f6c2-4e0d-914e-9613aaf4de7a",
   "metadata": {},
   "outputs": [
    {
     "name": "stdout",
     "output_type": "stream",
     "text": [
      "<class 'pandas.core.frame.DataFrame'>\n",
      "RangeIndex: 16814 entries, 0 to 16813\n",
      "Data columns (total 3 columns):\n",
      " #   Column        Non-Null Count  Dtype \n",
      "---  ------        --------------  ----- \n",
      " 0   date          16814 non-null  object\n",
      " 1   user_id       16814 non-null  object\n",
      " 2   view_adverts  16814 non-null  int64 \n",
      "dtypes: int64(1), object(2)\n",
      "memory usage: 394.2+ KB\n"
     ]
    }
   ],
   "source": [
    "df.info()"
   ]
  },
  {
   "cell_type": "code",
   "execution_count": 4,
   "id": "f55ceff6-5115-4d77-bae3-7c9ab98649d7",
   "metadata": {},
   "outputs": [
    {
     "name": "stdout",
     "output_type": "stream",
     "text": [
      "MAU за ноябрь 2023: 7639\n"
     ]
    }
   ],
   "source": [
    "df = pd.read_csv('Данные об аудитории.csv')\n",
    "df['date'] = pd.to_datetime(df['date'])\n",
    "\n",
    "mau = df['user_id'].nunique()\n",
    "\n",
    "print(f'MAU за ноябрь 2023: {mau}')"
   ]
  },
  {
   "cell_type": "code",
   "execution_count": 5,
   "id": "c84f6b7c-9029-435f-af8a-9924a0a4bc84",
   "metadata": {},
   "outputs": [
    {
     "name": "stdout",
     "output_type": "stream",
     "text": [
      "Средний DAU за ноябрь 2023: 560\n"
     ]
    }
   ],
   "source": [
    "dau_by_day = df.groupby('date')['user_id'].nunique()\n",
    "average_dau = dau_by_day.mean()\n",
    "\n",
    "print(f'Средний DAU за ноябрь 2023: {average_dau:.0f}')"
   ]
  },
  {
   "cell_type": "code",
   "execution_count": 6,
   "id": "f7cb2a39-0313-4a50-9fe9-be6054b11995",
   "metadata": {},
   "outputs": [
    {
     "name": "stdout",
     "output_type": "stream",
     "text": [
      "Retention первого дня: 26.65 %\n"
     ]
    }
   ],
   "source": [
    "first_seen = df.groupby('user_id')['date'].min().reset_index()\n",
    "nov1_users = first_seen[first_seen['date'] == '2023-11-01']['user_id']\n",
    "nov2_users = df[df['date'] == '2023-11-02']['user_id']\n",
    "retained_users = set(nov1_users).intersection(set(nov2_users))\n",
    "retention_rate = len(retained_users) / len(nov1_users) * 100\n",
    "\n",
    "print(f'Retention первого дня: {retention_rate:.2f} %')"
   ]
  },
  {
   "cell_type": "code",
   "execution_count": 7,
   "id": "aa3c78bb-68a1-42a3-b0d1-10ad3db0777c",
   "metadata": {},
   "outputs": [
    {
     "name": "stdout",
     "output_type": "stream",
     "text": [
      "Конверсия: 46.31%\n"
     ]
    }
   ],
   "source": [
    "users_with_views = df[df['view_adverts'] > 0]['user_id'].nunique()\n",
    "total_users = df['user_id'].nunique()\n",
    "conversion_percent = (users_with_views / total_users) * 100\n",
    "\n",
    "print(f'Конверсия: {conversion_percent:.2f}%')"
   ]
  },
  {
   "cell_type": "code",
   "execution_count": 8,
   "id": "c4acb982-efd4-4a2f-9b4a-fd2a7ab6db0d",
   "metadata": {},
   "outputs": [
    {
     "name": "stdout",
     "output_type": "stream",
     "text": [
      "Среднее количество просмотров на пользователя: 2.87\n"
     ]
    }
   ],
   "source": [
    "total_views = df['view_adverts'].sum()\n",
    "unique_users = df['user_id'].nunique()\n",
    "average_views = total_views / unique_users\n",
    "\n",
    "print(f'Среднее количество просмотров на пользователя: {average_views:.2f}')"
   ]
  },
  {
   "cell_type": "code",
   "execution_count": 9,
   "id": "69338b68-18f6-4e98-9ad8-f4934e718557",
   "metadata": {},
   "outputs": [
    {
     "name": "stdout",
     "output_type": "stream",
     "text": [
      "NPS = 35.0%\n"
     ]
    }
   ],
   "source": [
    "total = 2000\n",
    "promoters = 1200\n",
    "detractors = 500\n",
    "\n",
    "nps = (promoters / total * 100) - (detractors / total * 100)\n",
    "print(f'NPS = {nps}%')"
   ]
  },
  {
   "cell_type": "code",
   "execution_count": 10,
   "id": "f7ffa425-f4fe-467c-b6b5-a722e44377f7",
   "metadata": {},
   "outputs": [
    {
     "name": "stdout",
     "output_type": "stream",
     "text": [
      "   experiment_num   arpu_test  arpu_control   p_value\n",
      "0               1  665.739583    722.460215  0.688966\n",
      "1               2  332.929167    704.653763  0.001128\n",
      "2               3  998.668750    663.206452  0.060315\n"
     ]
    }
   ],
   "source": [
    "from scipy.stats import ttest_ind\n",
    "data = pd.read_csv('Данные АБ тестов.csv')\n",
    "\n",
    "results = []\n",
    "\n",
    "for exp_num in data['experiment_num'].unique():\n",
    "    exp_data = data[data['experiment_num'] == exp_num]\n",
    "    \n",
    "    test_group = exp_data[exp_data['experiment_group'] == 'test']\n",
    "    control_group = exp_data[exp_data['experiment_group'] == 'control']\n",
    "    \n",
    "    arpu_test = test_group['revenue'].sum() / test_group['user_id'].nunique()\n",
    "    arpu_control = control_group['revenue'].sum() / control_group['user_id'].nunique()\n",
    "    \n",
    "    stat, p_value = ttest_ind(test_group['revenue'], control_group['revenue'], equal_var = False)\n",
    "    \n",
    "    results.append({\n",
    "        'experiment_num': exp_num,\n",
    "        'arpu_test': arpu_test,\n",
    "        'arpu_control': arpu_control,\n",
    "        'p_value': p_value})\n",
    "\n",
    "results_df = pd.DataFrame(results)\n",
    "print(results_df)"
   ]
  },
  {
   "cell_type": "code",
   "execution_count": 11,
   "id": "03959257-9f79-4d13-b3a0-2094f598981d",
   "metadata": {},
   "outputs": [
    {
     "name": "stdout",
     "output_type": "stream",
     "text": [
      "Средний доход на пользователя: 156.48\n"
     ]
    }
   ],
   "source": [
    "data = pd.read_csv('Листеры.csv')\n",
    "\n",
    "total_revenue = data['revenue'].sum()\n",
    "unique_users = data['user_id'].nunique()\n",
    "arpu = total_revenue / unique_users\n",
    "\n",
    "print(f'Средний доход на пользователя: {arpu:.2f}')"
   ]
  },
  {
   "cell_type": "code",
   "execution_count": 12,
   "id": "b56d64de-ab26-4a33-a6ac-fa012d9d65b7",
   "metadata": {},
   "outputs": [
    {
     "name": "stdout",
     "output_type": "stream",
     "text": [
      "Медиана возраста пользователя: 28.0\n"
     ]
    }
   ],
   "source": [
    "unique_ages = data.drop_duplicates(subset = 'user_id')['age']\n",
    "median_age = unique_ages.median()\n",
    "\n",
    "print(f'Медиана возраста пользователя: {median_age}')"
   ]
  },
  {
   "cell_type": "code",
   "execution_count": null,
   "id": "1ea5ec2c-2e27-40cb-8b8c-2f44137d8d2e",
   "metadata": {},
   "outputs": [],
   "source": []
  }
 ],
 "metadata": {
  "kernelspec": {
   "display_name": "Python 3 (ipykernel)",
   "language": "python",
   "name": "python3"
  },
  "language_info": {
   "codemirror_mode": {
    "name": "ipython",
    "version": 3
   },
   "file_extension": ".py",
   "mimetype": "text/x-python",
   "name": "python",
   "nbconvert_exporter": "python",
   "pygments_lexer": "ipython3",
   "version": "3.12.4"
  }
 },
 "nbformat": 4,
 "nbformat_minor": 5
}
